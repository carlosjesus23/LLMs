{
  "nbformat": 4,
  "nbformat_minor": 0,
  "metadata": {
    "colab": {
      "private_outputs": true,
      "provenance": [],
      "include_colab_link": true
    },
    "kernelspec": {
      "name": "python3",
      "display_name": "Python 3"
    },
    "language_info": {
      "name": "python"
    }
  },
  "cells": [
    {
      "cell_type": "markdown",
      "metadata": {
        "id": "view-in-github",
        "colab_type": "text"
      },
      "source": [
        "<a href=\"https://colab.research.google.com/github/carlosjesus23/LLMs/blob/main/gsi073_aula0_regressao_logistica.ipynb\" target=\"_parent\"><img src=\"https://colab.research.google.com/assets/colab-badge.svg\" alt=\"Open In Colab\"/></a>"
      ]
    },
    {
      "cell_type": "markdown",
      "source": [
        "# GSI073 - Tópicos Especiais de Inteligência Artificial\n",
        "\n",
        "## Definição dos dados"
      ],
      "metadata": {
        "id": "Mwsc0ViVertv"
      }
    },
    {
      "cell_type": "code",
      "execution_count": null,
      "metadata": {
        "id": "OmZxMYLGefOh"
      },
      "outputs": [],
      "source": [
        "import torch\n",
        "import torch.nn as nn\n",
        "import sklearn.datasets\n",
        "from sklearn.model_selection import train_test_split\n",
        "from sklearn.metrics import accuracy_score, precision_score, recall_score, f1_score\n",
        "import numpy as np\n",
        "\n",
        "# 1. Carregar dados\n",
        "iris = sklearn.datasets.load_iris()\n",
        "X_np = iris.data\n",
        "y_np = (iris.target == 1).astype(float)\n",
        "\n",
        "# 2. Preparar dados para pytorch\n",
        "X = torch.tensor(X_np, dtype=torch.float32)\n",
        "y = torch.tensor(y_np, dtype=torch.float32).view(-1, 1)\n",
        "\n",
        "# 2.1. Separar dados em Treino e Teste (Esta linha retorna ARRAYS DO NUMPY)\n",
        "X_train_np, X_test_np, y_train_np, y_test_np = train_test_split(\n",
        "    X_np, y_np, test_size=0.2, random_state=42\n",
        ")\n",
        "\n",
        "# 2.2. NOVO PASSO: Converter os arrays do numpy de volta para tensores PyTorch\n",
        "X_train = torch.tensor(X_train_np, dtype=torch.float32)\n",
        "X_test = torch.tensor(X_test_np, dtype=torch.float32)\n",
        "y_train = torch.tensor(y_train_np, dtype=torch.float32).view(-1, 1)\n",
        "y_test = torch.tensor(y_test_np, dtype=torch.float32).view(-1, 1)"
      ]
    },
    {
      "cell_type": "markdown",
      "source": [
        "## Definição do modelo e treinamento"
      ],
      "metadata": {
        "id": "nUv-LKlIe9Id"
      }
    },
    {
      "cell_type": "code",
      "source": [
        "# 3. Definir modelo: regressão logística\n",
        "modelo = nn.Linear(4, 1)  # 4 features → 1 saída (probabilidade de ser Versicolor)\n",
        "\n",
        "# 4. Definir função de perda e algoritmo de otimização\n",
        "funcao_perda = torch.nn.BCEWithLogitsLoss()  # combinação de sigmoid + BCE\n",
        "optimizer = torch.optim.SGD(modelo.parameters(), lr=0.1)"
      ],
      "metadata": {
        "id": "eg97DxIbe0tV"
      },
      "execution_count": null,
      "outputs": []
    },
    {
      "cell_type": "markdown",
      "source": [
        "## Execução do treinamento"
      ],
      "metadata": {
        "id": "Agjn3aQxfHOO"
      }
    },
    {
      "cell_type": "code",
      "source": [
        "# 5. Treino\n",
        "for epoch in range(1000):\n",
        "    optimizer.zero_grad() # reseta gradiente senão acumula\n",
        "    outputs = modelo(X_train)\n",
        "    loss = funcao_perda(outputs, y_train)\n",
        "    loss.backward()\n",
        "    optimizer.step()\n",
        "\n",
        "    if (epoch + 1) % 10 == 0:\n",
        "        print(f\"Época [{epoch+1}/100], Loss: {loss.item():.4f}\")"
      ],
      "metadata": {
        "id": "uuksjyq7e4Mt"
      },
      "execution_count": null,
      "outputs": []
    },
    {
      "cell_type": "markdown",
      "source": [
        "## Execução da Avaliação do Modelo"
      ],
      "metadata": {
        "id": "rCR7My94Z3dJ"
      }
    },
    {
      "cell_type": "code",
      "source": [
        "# 6. Avaliação do Modelo\n",
        "with torch.no_grad():\n",
        "    test_logits = modelo(X_test)\n",
        "    test_probabilities = torch.sigmoid(test_logits)\n",
        "    test_predictions = (test_probabilities >= 0.5).float()\n",
        "\n",
        "    # Converter para numpy\n",
        "    y_true = y_test.numpy().flatten()\n",
        "    y_pred = test_predictions.numpy().flatten()\n",
        "\n",
        "    # Calcular métricas\n",
        "    accuracy = accuracy_score(y_true, y_pred)\n",
        "    precision = precision_score(y_true, y_pred, zero_division=0)\n",
        "    recall = recall_score(y_true, y_pred, zero_division=0)\n",
        "    f1 = f1_score(y_true, y_pred, zero_division=0)\n",
        "\n",
        "    print(\"\\n📊 Métricas no conjunto de teste:\")\n",
        "    print(f\"✅ Acurácia : {accuracy * 100:.2f}%\")\n",
        "    print(f\"🎯 Precisão : {precision * 100:.2f}%\")\n",
        "    print(f\"🔍 Recall   : {recall * 100:.2f}%\")\n",
        "    print(f\"⚖️ F1-Score : {f1 * 100:.2f}%\")"
      ],
      "metadata": {
        "id": "HL5G3IuVZ08u"
      },
      "execution_count": null,
      "outputs": []
    }
  ]
}